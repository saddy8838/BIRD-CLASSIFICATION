{
 "cells": [
  {
   "cell_type": "code",
   "execution_count": 28,
   "metadata": {},
   "outputs": [],
   "source": [
    "import pandas as pd\n",
    "\n",
    "# some lines have too many fields (?), so skip bad lines\n",
    "imgatt = pd.read_csv(\"C:\\\\Users\\\\jay\\\\Downloads\\\\Compressed\\\\CUB200(2011)\\\\CUB_200_2011\\\\CUB_200_2011\\\\CUB_200_2011\\\\attributes\\\\image_attribute_labels.txt\",\n",
    "                     sep='\\s+', header=None, error_bad_lines=False, warn_bad_lines=False,\n",
    "                     usecols=[0,1,2], names=['imgid', 'attid', 'present'])\n"
   ]
  },
  {
   "cell_type": "code",
   "execution_count": 29,
   "metadata": {},
   "outputs": [
    {
     "output_type": "execute_result",
     "data": {
      "text/plain": [
       "   imgid  attid  present\n",
       "0      1      1        0\n",
       "1      1      2        0\n",
       "2      1      3        0\n",
       "3      1      4        0\n",
       "4      1      5        1"
      ],
      "text/html": "<div>\n<style scoped>\n    .dataframe tbody tr th:only-of-type {\n        vertical-align: middle;\n    }\n\n    .dataframe tbody tr th {\n        vertical-align: top;\n    }\n\n    .dataframe thead th {\n        text-align: right;\n    }\n</style>\n<table border=\"1\" class=\"dataframe\">\n  <thead>\n    <tr style=\"text-align: right;\">\n      <th></th>\n      <th>imgid</th>\n      <th>attid</th>\n      <th>present</th>\n    </tr>\n  </thead>\n  <tbody>\n    <tr>\n      <th>0</th>\n      <td>1</td>\n      <td>1</td>\n      <td>0</td>\n    </tr>\n    <tr>\n      <th>1</th>\n      <td>1</td>\n      <td>2</td>\n      <td>0</td>\n    </tr>\n    <tr>\n      <th>2</th>\n      <td>1</td>\n      <td>3</td>\n      <td>0</td>\n    </tr>\n    <tr>\n      <th>3</th>\n      <td>1</td>\n      <td>4</td>\n      <td>0</td>\n    </tr>\n    <tr>\n      <th>4</th>\n      <td>1</td>\n      <td>5</td>\n      <td>1</td>\n    </tr>\n  </tbody>\n</table>\n</div>"
     },
     "metadata": {},
     "execution_count": 29
    }
   ],
   "source": [
    "imgatt.head()"
   ]
  },
  {
   "cell_type": "code",
   "execution_count": 30,
   "metadata": {},
   "outputs": [
    {
     "output_type": "execute_result",
     "data": {
      "text/plain": [
       "(3677856, 3)"
      ]
     },
     "metadata": {},
     "execution_count": 30
    }
   ],
   "source": [
    "imgatt.shape"
   ]
  },
  {
   "cell_type": "code",
   "execution_count": 31,
   "metadata": {},
   "outputs": [],
   "source": [
    "imgatt2 = imgatt.pivot(index='imgid', columns='attid', values='present')"
   ]
  },
  {
   "cell_type": "code",
   "execution_count": 32,
   "metadata": {},
   "outputs": [
    {
     "output_type": "execute_result",
     "data": {
      "text/plain": [
       "attid  1    2    3    4    5    6    7    8    9    10   ...  303  304  305  \\\n",
       "imgid                                                    ...                  \n",
       "1        0    0    0    0    1    0    0    0    0    0  ...    0    0    0   \n",
       "2        0    0    0    0    0    0    0    0    0    0  ...    0    0    0   \n",
       "3        0    0    0    0    1    0    0    0    0    0  ...    0    0    0   \n",
       "4        0    0    0    0    1    0    0    0    0    0  ...    0    0    0   \n",
       "5        0    0    0    0    1    0    0    0    0    0  ...    0    0    1   \n",
       "\n",
       "attid  306  307  308  309  310  311  312  \n",
       "imgid                                     \n",
       "1        0    0    1    0    0    0    0  \n",
       "2        0    0    0    0    0    0    0  \n",
       "3        0    0    1    0    0    1    0  \n",
       "4        1    0    0    1    0    0    0  \n",
       "5        0    0    0    0    0    0    0  \n",
       "\n",
       "[5 rows x 312 columns]"
      ],
      "text/html": "<div>\n<style scoped>\n    .dataframe tbody tr th:only-of-type {\n        vertical-align: middle;\n    }\n\n    .dataframe tbody tr th {\n        vertical-align: top;\n    }\n\n    .dataframe thead th {\n        text-align: right;\n    }\n</style>\n<table border=\"1\" class=\"dataframe\">\n  <thead>\n    <tr style=\"text-align: right;\">\n      <th>attid</th>\n      <th>1</th>\n      <th>2</th>\n      <th>3</th>\n      <th>4</th>\n      <th>5</th>\n      <th>6</th>\n      <th>7</th>\n      <th>8</th>\n      <th>9</th>\n      <th>10</th>\n      <th>...</th>\n      <th>303</th>\n      <th>304</th>\n      <th>305</th>\n      <th>306</th>\n      <th>307</th>\n      <th>308</th>\n      <th>309</th>\n      <th>310</th>\n      <th>311</th>\n      <th>312</th>\n    </tr>\n    <tr>\n      <th>imgid</th>\n      <th></th>\n      <th></th>\n      <th></th>\n      <th></th>\n      <th></th>\n      <th></th>\n      <th></th>\n      <th></th>\n      <th></th>\n      <th></th>\n      <th></th>\n      <th></th>\n      <th></th>\n      <th></th>\n      <th></th>\n      <th></th>\n      <th></th>\n      <th></th>\n      <th></th>\n      <th></th>\n      <th></th>\n    </tr>\n  </thead>\n  <tbody>\n    <tr>\n      <th>1</th>\n      <td>0</td>\n      <td>0</td>\n      <td>0</td>\n      <td>0</td>\n      <td>1</td>\n      <td>0</td>\n      <td>0</td>\n      <td>0</td>\n      <td>0</td>\n      <td>0</td>\n      <td>...</td>\n      <td>0</td>\n      <td>0</td>\n      <td>0</td>\n      <td>0</td>\n      <td>0</td>\n      <td>1</td>\n      <td>0</td>\n      <td>0</td>\n      <td>0</td>\n      <td>0</td>\n    </tr>\n    <tr>\n      <th>2</th>\n      <td>0</td>\n      <td>0</td>\n      <td>0</td>\n      <td>0</td>\n      <td>0</td>\n      <td>0</td>\n      <td>0</td>\n      <td>0</td>\n      <td>0</td>\n      <td>0</td>\n      <td>...</td>\n      <td>0</td>\n      <td>0</td>\n      <td>0</td>\n      <td>0</td>\n      <td>0</td>\n      <td>0</td>\n      <td>0</td>\n      <td>0</td>\n      <td>0</td>\n      <td>0</td>\n    </tr>\n    <tr>\n      <th>3</th>\n      <td>0</td>\n      <td>0</td>\n      <td>0</td>\n      <td>0</td>\n      <td>1</td>\n      <td>0</td>\n      <td>0</td>\n      <td>0</td>\n      <td>0</td>\n      <td>0</td>\n      <td>...</td>\n      <td>0</td>\n      <td>0</td>\n      <td>0</td>\n      <td>0</td>\n      <td>0</td>\n      <td>1</td>\n      <td>0</td>\n      <td>0</td>\n      <td>1</td>\n      <td>0</td>\n    </tr>\n    <tr>\n      <th>4</th>\n      <td>0</td>\n      <td>0</td>\n      <td>0</td>\n      <td>0</td>\n      <td>1</td>\n      <td>0</td>\n      <td>0</td>\n      <td>0</td>\n      <td>0</td>\n      <td>0</td>\n      <td>...</td>\n      <td>0</td>\n      <td>0</td>\n      <td>0</td>\n      <td>1</td>\n      <td>0</td>\n      <td>0</td>\n      <td>1</td>\n      <td>0</td>\n      <td>0</td>\n      <td>0</td>\n    </tr>\n    <tr>\n      <th>5</th>\n      <td>0</td>\n      <td>0</td>\n      <td>0</td>\n      <td>0</td>\n      <td>1</td>\n      <td>0</td>\n      <td>0</td>\n      <td>0</td>\n      <td>0</td>\n      <td>0</td>\n      <td>...</td>\n      <td>0</td>\n      <td>0</td>\n      <td>1</td>\n      <td>0</td>\n      <td>0</td>\n      <td>0</td>\n      <td>0</td>\n      <td>0</td>\n      <td>0</td>\n      <td>0</td>\n    </tr>\n  </tbody>\n</table>\n<p>5 rows × 312 columns</p>\n</div>"
     },
     "metadata": {},
     "execution_count": 32
    }
   ],
   "source": [
    "imgatt2.head()"
   ]
  },
  {
   "cell_type": "code",
   "execution_count": 33,
   "metadata": {},
   "outputs": [
    {
     "output_type": "execute_result",
     "data": {
      "text/plain": [
       "(11788, 312)"
      ]
     },
     "metadata": {},
     "execution_count": 33
    }
   ],
   "source": [
    "imgatt2.shape"
   ]
  },
  {
   "cell_type": "code",
   "execution_count": 34,
   "metadata": {},
   "outputs": [],
   "source": [
    "# now we need to load the image true classes\n",
    "\n",
    "imglabels = pd.read_csv(\"C:\\\\Users\\\\jay\\\\Downloads\\\\Compressed\\\\CUB200(2011)\\\\CUB_200_2011\\\\CUB_200_2011\\\\CUB_200_2011\\\\image_class_labels.txt\", \n",
    "                        sep=' ', header=None, names=['imgid', 'label'])\n",
    "\n",
    "imglabels = imglabels.set_index('imgid')\n",
    "\n",
    "# description from dataset README:\n",
    "#\n",
    "# The ground truth class labels (bird species labels) for each image are contained\n",
    "# in the file image_class_labels.txt, with each line corresponding to one image:\n",
    "#\n",
    "# <image_id> <class_id>\n",
    "#\n",
    "# where <image_id> and <class_id> correspond to the IDs in images.txt and classes.txt,\n",
    "# respectively."
   ]
  },
  {
   "cell_type": "code",
   "execution_count": 35,
   "metadata": {},
   "outputs": [
    {
     "output_type": "execute_result",
     "data": {
      "text/plain": [
       "       label\n",
       "imgid       \n",
       "1          1\n",
       "2          1\n",
       "3          1\n",
       "4          1\n",
       "5          1"
      ],
      "text/html": "<div>\n<style scoped>\n    .dataframe tbody tr th:only-of-type {\n        vertical-align: middle;\n    }\n\n    .dataframe tbody tr th {\n        vertical-align: top;\n    }\n\n    .dataframe thead th {\n        text-align: right;\n    }\n</style>\n<table border=\"1\" class=\"dataframe\">\n  <thead>\n    <tr style=\"text-align: right;\">\n      <th></th>\n      <th>label</th>\n    </tr>\n    <tr>\n      <th>imgid</th>\n      <th></th>\n    </tr>\n  </thead>\n  <tbody>\n    <tr>\n      <th>1</th>\n      <td>1</td>\n    </tr>\n    <tr>\n      <th>2</th>\n      <td>1</td>\n    </tr>\n    <tr>\n      <th>3</th>\n      <td>1</td>\n    </tr>\n    <tr>\n      <th>4</th>\n      <td>1</td>\n    </tr>\n    <tr>\n      <th>5</th>\n      <td>1</td>\n    </tr>\n  </tbody>\n</table>\n</div>"
     },
     "metadata": {},
     "execution_count": 35
    }
   ],
   "source": [
    "imglabels.head()"
   ]
  },
  {
   "cell_type": "code",
   "execution_count": 36,
   "metadata": {},
   "outputs": [
    {
     "output_type": "execute_result",
     "data": {
      "text/plain": [
       "(11788, 1)"
      ]
     },
     "metadata": {},
     "execution_count": 36
    }
   ],
   "source": [
    "imglabels.shape"
   ]
  },
  {
   "cell_type": "code",
   "execution_count": 37,
   "metadata": {},
   "outputs": [],
   "source": [
    "# now we need to attach the labels to the attribute data set,\n",
    "# and shuffle; then we'll separate a test set from a training set\n",
    "\n",
    "df = imgatt2.join(imglabels)\n",
    "df = df.sample(frac=1)"
   ]
  },
  {
   "cell_type": "code",
   "execution_count": 38,
   "metadata": {},
   "outputs": [],
   "source": [
    "df_att = df.iloc[:, :312]\n",
    "df_label = df.iloc[:, 312:]"
   ]
  },
  {
   "cell_type": "code",
   "execution_count": 12,
   "metadata": {},
   "outputs": [
    {
     "output_type": "execute_result",
     "data": {
      "text/plain": [
       "       1    2    3    4    5    6    7    8    9    10   ...  303  304  305  \\\n",
       "imgid                                                    ...                  \n",
       "4354     0    1    0    0    0    0    0    0    0    1  ...    0    0    0   \n",
       "4514     0    0    0    0    0    0    1    0    0    0  ...    0    0    0   \n",
       "5976     0    0    0    0    0    0    0    1    0    0  ...    0    0    0   \n",
       "4812     0    0    0    0    0    0    1    0    0    1  ...    0    0    0   \n",
       "8826     0    0    0    0    0    0    1    0    0    0  ...    0    0    1   \n",
       "\n",
       "       306  307  308  309  310  311  312  \n",
       "imgid                                     \n",
       "4354     0    0    0    1    0    0    0  \n",
       "4514     0    0    0    0    0    1    0  \n",
       "5976     0    0    0    0    0    0    1  \n",
       "4812     0    0    0    0    0    1    0  \n",
       "8826     0    0    0    0    0    1    0  \n",
       "\n",
       "[5 rows x 312 columns]"
      ],
      "text/html": "<div>\n<style scoped>\n    .dataframe tbody tr th:only-of-type {\n        vertical-align: middle;\n    }\n\n    .dataframe tbody tr th {\n        vertical-align: top;\n    }\n\n    .dataframe thead th {\n        text-align: right;\n    }\n</style>\n<table border=\"1\" class=\"dataframe\">\n  <thead>\n    <tr style=\"text-align: right;\">\n      <th></th>\n      <th>1</th>\n      <th>2</th>\n      <th>3</th>\n      <th>4</th>\n      <th>5</th>\n      <th>6</th>\n      <th>7</th>\n      <th>8</th>\n      <th>9</th>\n      <th>10</th>\n      <th>...</th>\n      <th>303</th>\n      <th>304</th>\n      <th>305</th>\n      <th>306</th>\n      <th>307</th>\n      <th>308</th>\n      <th>309</th>\n      <th>310</th>\n      <th>311</th>\n      <th>312</th>\n    </tr>\n    <tr>\n      <th>imgid</th>\n      <th></th>\n      <th></th>\n      <th></th>\n      <th></th>\n      <th></th>\n      <th></th>\n      <th></th>\n      <th></th>\n      <th></th>\n      <th></th>\n      <th></th>\n      <th></th>\n      <th></th>\n      <th></th>\n      <th></th>\n      <th></th>\n      <th></th>\n      <th></th>\n      <th></th>\n      <th></th>\n      <th></th>\n    </tr>\n  </thead>\n  <tbody>\n    <tr>\n      <th>4354</th>\n      <td>0</td>\n      <td>1</td>\n      <td>0</td>\n      <td>0</td>\n      <td>0</td>\n      <td>0</td>\n      <td>0</td>\n      <td>0</td>\n      <td>0</td>\n      <td>1</td>\n      <td>...</td>\n      <td>0</td>\n      <td>0</td>\n      <td>0</td>\n      <td>0</td>\n      <td>0</td>\n      <td>0</td>\n      <td>1</td>\n      <td>0</td>\n      <td>0</td>\n      <td>0</td>\n    </tr>\n    <tr>\n      <th>4514</th>\n      <td>0</td>\n      <td>0</td>\n      <td>0</td>\n      <td>0</td>\n      <td>0</td>\n      <td>0</td>\n      <td>1</td>\n      <td>0</td>\n      <td>0</td>\n      <td>0</td>\n      <td>...</td>\n      <td>0</td>\n      <td>0</td>\n      <td>0</td>\n      <td>0</td>\n      <td>0</td>\n      <td>0</td>\n      <td>0</td>\n      <td>0</td>\n      <td>1</td>\n      <td>0</td>\n    </tr>\n    <tr>\n      <th>5976</th>\n      <td>0</td>\n      <td>0</td>\n      <td>0</td>\n      <td>0</td>\n      <td>0</td>\n      <td>0</td>\n      <td>0</td>\n      <td>1</td>\n      <td>0</td>\n      <td>0</td>\n      <td>...</td>\n      <td>0</td>\n      <td>0</td>\n      <td>0</td>\n      <td>0</td>\n      <td>0</td>\n      <td>0</td>\n      <td>0</td>\n      <td>0</td>\n      <td>0</td>\n      <td>1</td>\n    </tr>\n    <tr>\n      <th>4812</th>\n      <td>0</td>\n      <td>0</td>\n      <td>0</td>\n      <td>0</td>\n      <td>0</td>\n      <td>0</td>\n      <td>1</td>\n      <td>0</td>\n      <td>0</td>\n      <td>1</td>\n      <td>...</td>\n      <td>0</td>\n      <td>0</td>\n      <td>0</td>\n      <td>0</td>\n      <td>0</td>\n      <td>0</td>\n      <td>0</td>\n      <td>0</td>\n      <td>1</td>\n      <td>0</td>\n    </tr>\n    <tr>\n      <th>8826</th>\n      <td>0</td>\n      <td>0</td>\n      <td>0</td>\n      <td>0</td>\n      <td>0</td>\n      <td>0</td>\n      <td>1</td>\n      <td>0</td>\n      <td>0</td>\n      <td>0</td>\n      <td>...</td>\n      <td>0</td>\n      <td>0</td>\n      <td>1</td>\n      <td>0</td>\n      <td>0</td>\n      <td>0</td>\n      <td>0</td>\n      <td>0</td>\n      <td>1</td>\n      <td>0</td>\n    </tr>\n  </tbody>\n</table>\n<p>5 rows × 312 columns</p>\n</div>"
     },
     "metadata": {},
     "execution_count": 12
    }
   ],
   "source": [
    "df_att.head()"
   ]
  },
  {
   "cell_type": "code",
   "execution_count": 39,
   "metadata": {},
   "outputs": [
    {
     "output_type": "execute_result",
     "data": {
      "text/plain": [
       "       label\n",
       "imgid       \n",
       "10616    181\n",
       "2158      38\n",
       "4854      84\n",
       "2155      38\n",
       "5102      88"
      ],
      "text/html": "<div>\n<style scoped>\n    .dataframe tbody tr th:only-of-type {\n        vertical-align: middle;\n    }\n\n    .dataframe tbody tr th {\n        vertical-align: top;\n    }\n\n    .dataframe thead th {\n        text-align: right;\n    }\n</style>\n<table border=\"1\" class=\"dataframe\">\n  <thead>\n    <tr style=\"text-align: right;\">\n      <th></th>\n      <th>label</th>\n    </tr>\n    <tr>\n      <th>imgid</th>\n      <th></th>\n    </tr>\n  </thead>\n  <tbody>\n    <tr>\n      <th>10616</th>\n      <td>181</td>\n    </tr>\n    <tr>\n      <th>2158</th>\n      <td>38</td>\n    </tr>\n    <tr>\n      <th>4854</th>\n      <td>84</td>\n    </tr>\n    <tr>\n      <th>2155</th>\n      <td>38</td>\n    </tr>\n    <tr>\n      <th>5102</th>\n      <td>88</td>\n    </tr>\n  </tbody>\n</table>\n</div>"
     },
     "metadata": {},
     "execution_count": 39
    }
   ],
   "source": [
    "df_label.head()"
   ]
  },
  {
   "cell_type": "code",
   "execution_count": 40,
   "metadata": {},
   "outputs": [],
   "source": [
    "df_train_att = df_att[:8000]\n",
    "df_train_label = df_label[:8000]\n",
    "df_test_att = df_att[8000:]\n",
    "df_test_label = df_label[8000:]\n",
    "\n",
    "df_train_label = df_train_label['label']\n",
    "df_test_label = df_test_label['label']"
   ]
  },
  {
   "cell_type": "code",
   "execution_count": 41,
   "metadata": {},
   "outputs": [],
   "source": [
    "from sklearn.ensemble import RandomForestClassifier\n",
    "clf = RandomForestClassifier(max_features=50, random_state=0, n_estimators=100)"
   ]
  },
  {
   "cell_type": "code",
   "execution_count": 42,
   "metadata": {},
   "outputs": [
    {
     "output_type": "execute_result",
     "data": {
      "text/plain": [
       "RandomForestClassifier(max_features=50, random_state=0)"
      ]
     },
     "metadata": {},
     "execution_count": 42
    }
   ],
   "source": [
    "clf.fit(df_train_att, df_train_label)"
   ]
  },
  {
   "cell_type": "code",
   "execution_count": 43,
   "metadata": {},
   "outputs": [
    {
     "output_type": "stream",
     "name": "stdout",
     "text": [
      "[181  38  84  38  88]\n"
     ]
    }
   ],
   "source": [
    "print(clf.predict(df_train_att.head()))"
   ]
  },
  {
   "cell_type": "code",
   "execution_count": 44,
   "metadata": {},
   "outputs": [
    {
     "output_type": "execute_result",
     "data": {
      "text/plain": [
       "0.44667370644139387"
      ]
     },
     "metadata": {},
     "execution_count": 44
    }
   ],
   "source": [
    "clf.score(df_test_att, df_test_label)"
   ]
  },
  {
   "cell_type": "code",
   "execution_count": 45,
   "metadata": {},
   "outputs": [],
   "source": [
    "from sklearn.metrics import confusion_matrix\n",
    "pred_labels = clf.predict(df_test_att)\n",
    "cm = confusion_matrix(df_test_label, pred_labels)"
   ]
  },
  {
   "cell_type": "code",
   "execution_count": 46,
   "metadata": {},
   "outputs": [
    {
     "output_type": "execute_result",
     "data": {
      "text/plain": [
       "array([[ 3,  0,  3, ...,  0,  0,  0],\n",
       "       [ 0, 13,  0, ...,  0,  0,  0],\n",
       "       [ 2,  1,  6, ...,  0,  0,  0],\n",
       "       ...,\n",
       "       [ 0,  0,  0, ...,  0,  0,  0],\n",
       "       [ 0,  0,  0, ...,  0,  5,  0],\n",
       "       [ 0,  0,  0, ...,  0,  0, 17]], dtype=int64)"
      ]
     },
     "metadata": {},
     "execution_count": 46
    }
   ],
   "source": [
    "cm"
   ]
  },
  {
   "cell_type": "code",
   "execution_count": 47,
   "metadata": {},
   "outputs": [],
   "source": [
    "# from http://scikit-learn.org/stable/auto_examples/model_selection/plot_confusion_matrix.html\n",
    "import matplotlib.pyplot as plt\n",
    "import itertools\n",
    "def plot_confusion_matrix(cm, classes,\n",
    "                          normalize=False,\n",
    "                          title='Confusion matrix',\n",
    "                          cmap=plt.cm.Blues):\n",
    "    \"\"\"\n",
    "    This function prints and plots the confusion matrix.\n",
    "    Normalization can be applied by setting `normalize=True`.\n",
    "    \"\"\"\n",
    "    if normalize:\n",
    "        cm = cm.astype('float') / cm.sum(axis=1)[:, np.newaxis]\n",
    "        print(\"Normalized confusion matrix\")\n",
    "    else:\n",
    "        print('Confusion matrix, without normalization')\n",
    "\n",
    "    print(cm)\n",
    "\n",
    "    plt.imshow(cm, interpolation='nearest', cmap=cmap)\n",
    "    plt.title(title)\n",
    "    #plt.colorbar()\n",
    "    tick_marks = np.arange(len(classes))\n",
    "    plt.xticks(tick_marks, classes, rotation=90)\n",
    "    plt.yticks(tick_marks, classes)\n",
    "\n",
    "    fmt = '.2f' if normalize else 'd'\n",
    "    thresh = cm.max() / 2.\n",
    "    #for i, j in itertools.product(range(cm.shape[0]), range(cm.shape[1])):\n",
    "    #    plt.text(j, i, format(cm[i, j], fmt),\n",
    "    #             horizontalalignment=\"center\",\n",
    "    #             color=\"white\" if cm[i, j] > thresh else \"black\")\n",
    "\n",
    "    plt.tight_layout()\n",
    "    plt.ylabel('True label')\n",
    "    plt.xlabel('Predicted label')"
   ]
  },
  {
   "cell_type": "code",
   "execution_count": 49,
   "metadata": {},
   "outputs": [
    {
     "output_type": "execute_result",
     "data": {
      "text/plain": [
       "0      001.Black_footed_Albatross\n",
       "1            002.Laysan_Albatross\n",
       "2             003.Sooty_Albatross\n",
       "3           004.Groove_billed_Ani\n",
       "4              005.Crested_Auklet\n",
       "                  ...            \n",
       "195                196.House_Wren\n",
       "196                197.Marsh_Wren\n",
       "197                 198.Rock_Wren\n",
       "198               199.Winter_Wren\n",
       "199       200.Common_Yellowthroat\n",
       "Name: birdname, Length: 200, dtype: object"
      ]
     },
     "metadata": {},
     "execution_count": 49
    }
   ],
   "source": [
    "birds = pd.read_csv(\"C:\\\\Users\\\\jay\\\\Downloads\\\\Compressed\\\\CUB200(2011)\\\\CUB_200_2011\\\\CUB_200_2011\\\\CUB_200_2011\\\\classes.txt\",\n",
    "                    sep='\\s+', header=None, usecols=[1], names=['birdname'])\n",
    "birds = birds['birdname']\n",
    "birds"
   ]
  },
  {
   "cell_type": "code",
   "execution_count": 48,
   "metadata": {},
   "outputs": [
    {
     "output_type": "error",
     "ename": "NameError",
     "evalue": "name 'birds' is not defined",
     "traceback": [
      "\u001b[1;31m---------------------------------------------------------------------------\u001b[0m",
      "\u001b[1;31mNameError\u001b[0m                                 Traceback (most recent call last)",
      "\u001b[1;32m<ipython-input-48-bed047258725>\u001b[0m in \u001b[0;36m<module>\u001b[1;34m\u001b[0m\n\u001b[0;32m      2\u001b[0m \u001b[0mnp\u001b[0m\u001b[1;33m.\u001b[0m\u001b[0mset_printoptions\u001b[0m\u001b[1;33m(\u001b[0m\u001b[0mprecision\u001b[0m\u001b[1;33m=\u001b[0m\u001b[1;36m2\u001b[0m\u001b[1;33m)\u001b[0m\u001b[1;33m\u001b[0m\u001b[1;33m\u001b[0m\u001b[0m\n\u001b[0;32m      3\u001b[0m \u001b[0mplt\u001b[0m\u001b[1;33m.\u001b[0m\u001b[0mfigure\u001b[0m\u001b[1;33m(\u001b[0m\u001b[0mfigsize\u001b[0m\u001b[1;33m=\u001b[0m\u001b[1;33m(\u001b[0m\u001b[1;36m60\u001b[0m\u001b[1;33m,\u001b[0m\u001b[1;36m60\u001b[0m\u001b[1;33m)\u001b[0m\u001b[1;33m,\u001b[0m \u001b[0mdpi\u001b[0m\u001b[1;33m=\u001b[0m\u001b[1;36m300\u001b[0m\u001b[1;33m)\u001b[0m\u001b[1;33m\u001b[0m\u001b[1;33m\u001b[0m\u001b[0m\n\u001b[1;32m----> 4\u001b[1;33m \u001b[0mplot_confusion_matrix\u001b[0m\u001b[1;33m(\u001b[0m\u001b[0mcm\u001b[0m\u001b[1;33m,\u001b[0m \u001b[0mclasses\u001b[0m\u001b[1;33m=\u001b[0m\u001b[0mbirds\u001b[0m\u001b[1;33m,\u001b[0m \u001b[0mnormalize\u001b[0m\u001b[1;33m=\u001b[0m\u001b[1;32mTrue\u001b[0m\u001b[1;33m)\u001b[0m\u001b[1;33m\u001b[0m\u001b[1;33m\u001b[0m\u001b[0m\n\u001b[0m\u001b[0;32m      5\u001b[0m \u001b[0mplt\u001b[0m\u001b[1;33m.\u001b[0m\u001b[0mshow\u001b[0m\u001b[1;33m(\u001b[0m\u001b[1;33m)\u001b[0m\u001b[1;33m\u001b[0m\u001b[1;33m\u001b[0m\u001b[0m\n",
      "\u001b[1;31mNameError\u001b[0m: name 'birds' is not defined"
     ]
    }
   ],
   "source": [
    "import numpy as np\n",
    "np.set_printoptions(precision=2)\n",
    "plt.figure(figsize=(60,60), dpi=300)\n",
    "plot_confusion_matrix(cm, classes=birds, normalize=True)\n",
    "plt.show()"
   ]
  },
  {
   "cell_type": "code",
   "execution_count": 67,
   "metadata": {},
   "outputs": [
    {
     "data": {
      "text/plain": [
       "0.26953537486800422"
      ]
     },
     "execution_count": 67,
     "metadata": {},
     "output_type": "execute_result"
    }
   ],
   "source": [
    "from sklearn import tree\n",
    "clftree = tree.DecisionTreeClassifier()\n",
    "clftree.fit(df_train_att, df_train_label)\n",
    "clftree.score(df_test_att, df_test_label)"
   ]
  },
  {
   "cell_type": "code",
   "execution_count": 68,
   "metadata": {},
   "outputs": [
    {
     "data": {
      "text/plain": [
       "0.28616684266103487"
      ]
     },
     "execution_count": 68,
     "metadata": {},
     "output_type": "execute_result"
    }
   ],
   "source": [
    "from sklearn import svm\n",
    "clfsvm = svm.SVC()\n",
    "clfsvm.fit(df_train_att, df_train_label)\n",
    "clfsvm.score(df_test_att, df_test_label)"
   ]
  },
  {
   "cell_type": "code",
   "execution_count": 69,
   "metadata": {},
   "outputs": [
    {
     "name": "stdout",
     "output_type": "stream",
     "text": [
      "Accuracy: 0.44 (+/- 0.02)\n"
     ]
    }
   ],
   "source": [
    "from sklearn.model_selection import cross_val_score\n",
    "scores = cross_val_score(clf, df_train_att, df_train_label, cv=5)\n",
    "# show average score and +/- two standard deviations away (covering 95% of scores)\n",
    "print(\"Accuracy: %0.2f (+/- %0.2f)\" % (scores.mean(), scores.std() * 2))"
   ]
  },
  {
   "cell_type": "code",
   "execution_count": 70,
   "metadata": {},
   "outputs": [
    {
     "name": "stdout",
     "output_type": "stream",
     "text": [
      "Accuracy: 0.25 (+/- 0.02)\n"
     ]
    }
   ],
   "source": [
    "scorestree = cross_val_score(clftree, df_train_att, df_train_label, cv=5)\n",
    "print(\"Accuracy: %0.2f (+/- %0.2f)\" % (scorestree.mean(), scorestree.std() * 2))"
   ]
  },
  {
   "cell_type": "code",
   "execution_count": 71,
   "metadata": {},
   "outputs": [
    {
     "name": "stdout",
     "output_type": "stream",
     "text": [
      "Accuracy: 0.27 (+/- 0.01)\n"
     ]
    }
   ],
   "source": [
    "scoressvm = cross_val_score(clfsvm, df_train_att, df_train_label, cv=5)\n",
    "print(\"Accuracy: %0.2f (+/- %0.2f)\" % (scoressvm.mean(), scoressvm.std() * 2))"
   ]
  },
  {
   "cell_type": "code",
   "execution_count": 72,
   "metadata": {},
   "outputs": [
    {
     "name": "stdout",
     "output_type": "stream",
     "text": [
      "Max features: 5, num estimators: 10, accuracy: 0.26 (+/- 0.03)\n",
      "Max features: 5, num estimators: 30, accuracy: 0.35 (+/- 0.02)\n",
      "Max features: 5, num estimators: 50, accuracy: 0.39 (+/- 0.03)\n",
      "Max features: 5, num estimators: 70, accuracy: 0.40 (+/- 0.04)\n",
      "Max features: 5, num estimators: 90, accuracy: 0.42 (+/- 0.02)\n",
      "Max features: 5, num estimators: 110, accuracy: 0.43 (+/- 0.02)\n",
      "Max features: 5, num estimators: 130, accuracy: 0.44 (+/- 0.02)\n",
      "Max features: 5, num estimators: 150, accuracy: 0.44 (+/- 0.03)\n",
      "Max features: 5, num estimators: 170, accuracy: 0.45 (+/- 0.03)\n",
      "Max features: 5, num estimators: 190, accuracy: 0.44 (+/- 0.02)\n",
      "Max features: 10, num estimators: 10, accuracy: 0.29 (+/- 0.03)\n",
      "Max features: 10, num estimators: 30, accuracy: 0.38 (+/- 0.03)\n",
      "Max features: 10, num estimators: 50, accuracy: 0.40 (+/- 0.03)\n",
      "Max features: 10, num estimators: 70, accuracy: 0.42 (+/- 0.02)\n",
      "Max features: 10, num estimators: 90, accuracy: 0.43 (+/- 0.02)\n",
      "Max features: 10, num estimators: 110, accuracy: 0.44 (+/- 0.03)\n",
      "Max features: 10, num estimators: 130, accuracy: 0.44 (+/- 0.03)\n",
      "Max features: 10, num estimators: 150, accuracy: 0.45 (+/- 0.02)\n",
      "Max features: 10, num estimators: 170, accuracy: 0.45 (+/- 0.03)\n",
      "Max features: 10, num estimators: 190, accuracy: 0.45 (+/- 0.03)\n",
      "Max features: 15, num estimators: 10, accuracy: 0.30 (+/- 0.02)\n",
      "Max features: 15, num estimators: 30, accuracy: 0.39 (+/- 0.02)\n",
      "Max features: 15, num estimators: 50, accuracy: 0.42 (+/- 0.02)\n",
      "Max features: 15, num estimators: 70, accuracy: 0.42 (+/- 0.02)\n",
      "Max features: 15, num estimators: 90, accuracy: 0.44 (+/- 0.03)\n",
      "Max features: 15, num estimators: 110, accuracy: 0.44 (+/- 0.03)\n",
      "Max features: 15, num estimators: 130, accuracy: 0.44 (+/- 0.02)\n",
      "Max features: 15, num estimators: 150, accuracy: 0.45 (+/- 0.03)\n",
      "Max features: 15, num estimators: 170, accuracy: 0.45 (+/- 0.03)\n",
      "Max features: 15, num estimators: 190, accuracy: 0.45 (+/- 0.03)\n",
      "Max features: 20, num estimators: 10, accuracy: 0.32 (+/- 0.02)\n",
      "Max features: 20, num estimators: 30, accuracy: 0.39 (+/- 0.04)\n",
      "Max features: 20, num estimators: 50, accuracy: 0.42 (+/- 0.03)\n",
      "Max features: 20, num estimators: 70, accuracy: 0.43 (+/- 0.03)\n",
      "Max features: 20, num estimators: 90, accuracy: 0.44 (+/- 0.03)\n",
      "Max features: 20, num estimators: 110, accuracy: 0.44 (+/- 0.03)\n",
      "Max features: 20, num estimators: 130, accuracy: 0.44 (+/- 0.02)\n",
      "Max features: 20, num estimators: 150, accuracy: 0.45 (+/- 0.03)\n",
      "Max features: 20, num estimators: 170, accuracy: 0.45 (+/- 0.03)\n",
      "Max features: 20, num estimators: 190, accuracy: 0.46 (+/- 0.03)\n",
      "Max features: 25, num estimators: 10, accuracy: 0.32 (+/- 0.03)\n",
      "Max features: 25, num estimators: 30, accuracy: 0.40 (+/- 0.03)\n",
      "Max features: 25, num estimators: 50, accuracy: 0.42 (+/- 0.03)\n",
      "Max features: 25, num estimators: 70, accuracy: 0.43 (+/- 0.02)\n",
      "Max features: 25, num estimators: 90, accuracy: 0.44 (+/- 0.03)\n",
      "Max features: 25, num estimators: 110, accuracy: 0.44 (+/- 0.03)\n",
      "Max features: 25, num estimators: 130, accuracy: 0.45 (+/- 0.02)\n",
      "Max features: 25, num estimators: 150, accuracy: 0.45 (+/- 0.03)\n",
      "Max features: 25, num estimators: 170, accuracy: 0.45 (+/- 0.03)\n",
      "Max features: 25, num estimators: 190, accuracy: 0.45 (+/- 0.04)\n",
      "Max features: 30, num estimators: 10, accuracy: 0.33 (+/- 0.03)\n",
      "Max features: 30, num estimators: 30, accuracy: 0.40 (+/- 0.04)\n",
      "Max features: 30, num estimators: 50, accuracy: 0.42 (+/- 0.02)\n",
      "Max features: 30, num estimators: 70, accuracy: 0.44 (+/- 0.03)\n",
      "Max features: 30, num estimators: 90, accuracy: 0.44 (+/- 0.03)\n",
      "Max features: 30, num estimators: 110, accuracy: 0.45 (+/- 0.03)\n",
      "Max features: 30, num estimators: 130, accuracy: 0.45 (+/- 0.02)\n",
      "Max features: 30, num estimators: 150, accuracy: 0.44 (+/- 0.02)\n",
      "Max features: 30, num estimators: 170, accuracy: 0.45 (+/- 0.02)\n",
      "Max features: 30, num estimators: 190, accuracy: 0.45 (+/- 0.03)\n",
      "Max features: 35, num estimators: 10, accuracy: 0.33 (+/- 0.02)\n",
      "Max features: 35, num estimators: 30, accuracy: 0.40 (+/- 0.02)\n",
      "Max features: 35, num estimators: 50, accuracy: 0.42 (+/- 0.02)\n",
      "Max features: 35, num estimators: 70, accuracy: 0.43 (+/- 0.03)\n",
      "Max features: 35, num estimators: 90, accuracy: 0.44 (+/- 0.02)\n",
      "Max features: 35, num estimators: 110, accuracy: 0.44 (+/- 0.03)\n",
      "Max features: 35, num estimators: 130, accuracy: 0.45 (+/- 0.02)\n",
      "Max features: 35, num estimators: 150, accuracy: 0.45 (+/- 0.03)\n",
      "Max features: 35, num estimators: 170, accuracy: 0.45 (+/- 0.03)\n",
      "Max features: 35, num estimators: 190, accuracy: 0.45 (+/- 0.02)\n",
      "Max features: 40, num estimators: 10, accuracy: 0.33 (+/- 0.02)\n",
      "Max features: 40, num estimators: 30, accuracy: 0.40 (+/- 0.03)\n",
      "Max features: 40, num estimators: 50, accuracy: 0.42 (+/- 0.03)\n",
      "Max features: 40, num estimators: 70, accuracy: 0.44 (+/- 0.03)\n",
      "Max features: 40, num estimators: 90, accuracy: 0.44 (+/- 0.03)\n",
      "Max features: 40, num estimators: 110, accuracy: 0.44 (+/- 0.03)\n",
      "Max features: 40, num estimators: 130, accuracy: 0.45 (+/- 0.02)\n",
      "Max features: 40, num estimators: 150, accuracy: 0.45 (+/- 0.03)\n",
      "Max features: 40, num estimators: 170, accuracy: 0.45 (+/- 0.03)\n",
      "Max features: 40, num estimators: 190, accuracy: 0.45 (+/- 0.02)\n",
      "Max features: 45, num estimators: 10, accuracy: 0.33 (+/- 0.02)\n",
      "Max features: 45, num estimators: 30, accuracy: 0.40 (+/- 0.02)\n",
      "Max features: 45, num estimators: 50, accuracy: 0.42 (+/- 0.04)\n",
      "Max features: 45, num estimators: 70, accuracy: 0.43 (+/- 0.03)\n",
      "Max features: 45, num estimators: 90, accuracy: 0.44 (+/- 0.02)\n",
      "Max features: 45, num estimators: 110, accuracy: 0.44 (+/- 0.02)\n",
      "Max features: 45, num estimators: 130, accuracy: 0.44 (+/- 0.03)\n",
      "Max features: 45, num estimators: 150, accuracy: 0.45 (+/- 0.01)\n",
      "Max features: 45, num estimators: 170, accuracy: 0.45 (+/- 0.03)\n",
      "Max features: 45, num estimators: 190, accuracy: 0.45 (+/- 0.03)\n"
     ]
    }
   ],
   "source": [
    "max_features_opts = range(5, 50, 5)\n",
    "n_estimators_opts = range(10, 200, 20)\n",
    "rf_params = np.empty((len(max_features_opts)*len(n_estimators_opts),4), float)\n",
    "i = 0\n",
    "for max_features in max_features_opts:\n",
    "    for n_estimators in n_estimators_opts:\n",
    "        clf = RandomForestClassifier(max_features=max_features, n_estimators=n_estimators)\n",
    "        scores = cross_val_score(clf, df_train_att, df_train_label, cv=5)\n",
    "        rf_params[i,0] = max_features\n",
    "        rf_params[i,1] = n_estimators\n",
    "        rf_params[i,2] = scores.mean()\n",
    "        rf_params[i,3] = scores.std() * 2\n",
    "        i += 1\n",
    "        print(\"Max features: %d, num estimators: %d, accuracy: %0.2f (+/- %0.2f)\" % \\\n",
    "              (max_features, n_estimators, scores.mean(), scores.std() * 2))"
   ]
  },
  {
   "cell_type": "code",
   "execution_count": 90,
   "metadata": {},
   "outputs": [
    {
     "data": {
      "image/png": "[encoded data removed]",
      "text/plain": [
       "<matplotlib.figure.Figure at 0x11642e128>"
      ]
     },
     "metadata": {},
     "output_type": "display_data"
    }
   ],
   "source": [
    "import matplotlib.pyplot as plt\n",
    "from mpl_toolkits.mplot3d import Axes3D\n",
    "from matplotlib import cm\n",
    "fig = plt.figure()\n",
    "fig.clf()\n",
    "ax = fig.gca(projection='3d')\n",
    "x = rf_params[:,0]\n",
    "y = rf_params[:,1]\n",
    "z = rf_params[:,2]\n",
    "ax.scatter(x, y, z)\n",
    "ax.set_zlim(0.2, 0.5)\n",
    "ax.set_xlabel('Max features')\n",
    "ax.set_ylabel('Num estimators')\n",
    "ax.set_zlabel('Avg accuracy')\n",
    "plt.show()"
   ]
  }
 ],
 "metadata": {
  "kernelspec": {
   "name": "python391jvsc74a57bd063fd5069d213b44bf678585dea6b12cceca9941eaf7f819626cde1f2670de90d",
   "display_name": "Python 3.9.1 64-bit"
  },
  "language_info": {
   "codemirror_mode": {
    "name": "ipython",
    "version": 3
   },
   "file_extension": ".py",
   "mimetype": "text/x-python",
   "name": "python",
   "nbconvert_exporter": "python",
   "pygments_lexer": "ipython3",
   "version": "3.9.1"
  },
  "metadata": {
   "interpreter": {
    "hash": "63fd5069d213b44bf678585dea6b12cceca9941eaf7f819626cde1f2670de90d"
   }
  }
 },
 "nbformat": 4,
 "nbformat_minor": 2
}