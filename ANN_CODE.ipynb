{
  "nbformat": 4,
  "nbformat_minor": 0,
  "metadata": {
    "kernelspec": {
      "display_name": "Python 3",
      "language": "python",
      "name": "python3"
    },
    "language_info": {
      "codemirror_mode": {
        "name": "ipython",
        "version": 3
      },
      "file_extension": ".py",
      "mimetype": "text/x-python",
      "name": "python",
      "nbconvert_exporter": "python",
      "pygments_lexer": "ipython3",
      "version": "3.6.5"
    },
    "colab": {
      "name": "ANN HW 4.ipynb",
      "provenance": []
    }
  },
  "cells": [
    {
      "cell_type": "code",
      "metadata": {
        "colab": {
          "base_uri": "https://localhost:8080/"
        },
        "id": "nzF8AQSrZM-G",
        "outputId": "0dbaedb4-05fe-43ed-9d9c-8274e71e8ead"
      },
      "source": [
        "from google.colab import drive\n",
        "drive.mount('/content/drive')"
      ],
      "execution_count": null,
      "outputs": [
        {
          "output_type": "stream",
          "text": [
            "Mounted at /content/drive\n"
          ],
          "name": "stdout"
        }
      ]
    },
    {
      "cell_type": "code",
      "metadata": {
        "id": "M01jurEaXk3K"
      },
      "source": [
        "from __future__ import division, print_function, absolute_import"
      ],
      "execution_count": 9,
      "outputs": []
    },
    {
      "cell_type": "code",
      "metadata": {
        "colab": {
          "base_uri": "https://localhost:8080/"
        },
        "id": "4Wi65NI1YBWc",
        "outputId": "22d2a884-b31e-4503-cc98-ef60076ee0cd"
      },
      "source": [
        "!pip install tflearn"
      ],
      "execution_count": 10,
      "outputs": [
        {
          "output_type": "stream",
          "text": [
            "Requirement already satisfied: tflearn in /usr/local/lib/python3.7/dist-packages (0.5.0)\n",
            "Requirement already satisfied: six in /usr/local/lib/python3.7/dist-packages (from tflearn) (1.15.0)\n",
            "Requirement already satisfied: Pillow in /usr/local/lib/python3.7/dist-packages (from tflearn) (7.1.2)\n",
            "Requirement already satisfied: numpy in /usr/local/lib/python3.7/dist-packages (from tflearn) (1.19.5)\n"
          ],
          "name": "stdout"
        }
      ]
    },
    {
      "cell_type": "code",
      "metadata": {
        "id": "QBwjtluoXk3c"
      },
      "source": [
        "import tflearn\n",
        "from tflearn.data_utils import shuffle\n",
        "from tflearn.layers.core import input_data, dropout, fully_connected\n",
        "from tflearn.layers.conv import conv_2d, max_pool_2d\n",
        "from tflearn.layers.estimator import regression\n",
        "from tflearn.data_preprocessing import ImagePreprocessing\n",
        "from tflearn.data_augmentation import ImageAugmentation\n",
        "import pickle"
      ],
      "execution_count": 11,
      "outputs": []
    },
    {
      "cell_type": "code",
      "metadata": {
        "id": "lqqteuNiZg0p",
        "colab": {
          "base_uri": "https://localhost:8080/"
        },
        "outputId": "954b4602-8759-4420-9431-f4862e506302"
      },
      "source": [
        "!unzip -q \"/content/drive/MyDrive/Colab Notebooks/data.zip\""
      ],
      "execution_count": 12,
      "outputs": [
        {
          "output_type": "stream",
          "text": [
            "replace full_dataset.pkl? [y]es, [n]o, [A]ll, [N]one, [r]ename: y\n",
            "y\n"
          ],
          "name": "stdout"
        }
      ]
    },
    {
      "cell_type": "code",
      "metadata": {
        "id": "zE738BiXXk3e"
      },
      "source": [
        "X, Y, X_test, Y_test = pickle.load(open(\"/content/full_dataset.pkl\", \"rb\"), encoding=\"bytes\")"
      ],
      "execution_count": 13,
      "outputs": []
    },
    {
      "cell_type": "code",
      "metadata": {
        "id": "B_XoaGOYXk3f"
      },
      "source": [
        "X, Y = shuffle(X, Y)"
      ],
      "execution_count": 14,
      "outputs": []
    },
    {
      "cell_type": "code",
      "metadata": {
        "id": "AD4lkT6OXk3g"
      },
      "source": [
        "img_prep = ImagePreprocessing()\n",
        "img_prep.add_featurewise_zero_center()\n",
        "img_prep.add_featurewise_stdnorm()"
      ],
      "execution_count": 15,
      "outputs": []
    },
    {
      "cell_type": "code",
      "metadata": {
        "id": "gGRc6Jy2Xk3i"
      },
      "source": [
        "img_aug = ImageAugmentation()\n",
        "img_aug.add_random_flip_leftright()\n",
        "img_aug.add_random_rotation(max_angle=25.)\n",
        "img_aug.add_random_blur(sigma_max=3.)"
      ],
      "execution_count": 16,
      "outputs": []
    },
    {
      "cell_type": "code",
      "metadata": {
        "id": "nRzxqfHMXk3i"
      },
      "source": [
        "network = input_data(shape=[None, 32, 32, 3],\n",
        "                     data_preprocessing=img_prep,\n",
        "                     data_augmentation=img_aug)"
      ],
      "execution_count": 17,
      "outputs": []
    },
    {
      "cell_type": "code",
      "metadata": {
        "id": "mSXi8uOCXk3j",
        "colab": {
          "base_uri": "https://localhost:8080/"
        },
        "outputId": "5d1767d6-8823-4508-a84a-c6d7ab31e0f8"
      },
      "source": [
        "network = conv_2d(network, 32, 3, activation='relu')"
      ],
      "execution_count": 18,
      "outputs": [
        {
          "output_type": "stream",
          "text": [
            "WARNING:tensorflow:From /usr/local/lib/python3.7/dist-packages/tflearn/initializations.py:110: calling UniformUnitScaling.__init__ (from tensorflow.python.ops.init_ops) with dtype is deprecated and will be removed in a future version.\n",
            "Instructions for updating:\n",
            "Call initializer instance with the dtype argument instead of passing it to the constructor\n",
            "WARNING:tensorflow:From /usr/local/lib/python3.7/dist-packages/tensorflow/python/util/deprecation.py:538: UniformUnitScaling.__init__ (from tensorflow.python.ops.init_ops) is deprecated and will be removed in a future version.\n",
            "Instructions for updating:\n",
            "Use tf.initializers.variance_scaling instead with distribution=uniform to get equivalent behavior.\n"
          ],
          "name": "stdout"
        }
      ]
    },
    {
      "cell_type": "code",
      "metadata": {
        "id": "O0YA6Fb9Xk3k"
      },
      "source": [
        "network = max_pool_2d(network, 2)"
      ],
      "execution_count": 19,
      "outputs": []
    },
    {
      "cell_type": "code",
      "metadata": {
        "id": "IcCcF-X6Xk3k"
      },
      "source": [
        "network = conv_2d(network, 64, 3, activation='relu')"
      ],
      "execution_count": 20,
      "outputs": []
    },
    {
      "cell_type": "code",
      "metadata": {
        "id": "4kXFSy7zXk3l"
      },
      "source": [
        "network = conv_2d(network, 64, 3, activation='relu')"
      ],
      "execution_count": 21,
      "outputs": []
    },
    {
      "cell_type": "code",
      "metadata": {
        "id": "fW1WGygjXk3l"
      },
      "source": [
        "network = max_pool_2d(network, 2)"
      ],
      "execution_count": 22,
      "outputs": []
    },
    {
      "cell_type": "code",
      "metadata": {
        "id": "JKs7upb0Xk3m",
        "colab": {
          "base_uri": "https://localhost:8080/"
        },
        "outputId": "7ace36eb-3f51-40ea-9dbd-fd7ad1dff9ad"
      },
      "source": [
        "# network = fully_connected(network, 512, activation='relu')\n",
        "network = dropout(network, 0.5)"
      ],
      "execution_count": 23,
      "outputs": [
        {
          "output_type": "stream",
          "text": [
            "WARNING:tensorflow:From /usr/local/lib/python3.7/dist-packages/tensorflow/python/util/dispatch.py:201: calling dropout (from tensorflow.python.ops.nn_ops) with keep_prob is deprecated and will be removed in a future version.\n",
            "Instructions for updating:\n",
            "Please use `rate` instead of `keep_prob`. Rate should be set to `rate = 1 - keep_prob`.\n"
          ],
          "name": "stdout"
        }
      ]
    },
    {
      "cell_type": "code",
      "metadata": {
        "id": "XqrHD-HoXk3m",
        "colab": {
          "base_uri": "https://localhost:8080/"
        },
        "outputId": "ff61411a-ceb5-4c29-f065-77e14420035c"
      },
      "source": [
        "# network = dropout(network, 0.5)\n",
        "network = fully_connected(network, 512, activation='relu')"
      ],
      "execution_count": 24,
      "outputs": [
        {
          "output_type": "stream",
          "text": [
            "WARNING:tensorflow:From /usr/local/lib/python3.7/dist-packages/tflearn/initializations.py:165: calling TruncatedNormal.__init__ (from tensorflow.python.ops.init_ops) with dtype is deprecated and will be removed in a future version.\n",
            "Instructions for updating:\n",
            "Call initializer instance with the dtype argument instead of passing it to the constructor\n"
          ],
          "name": "stdout"
        }
      ]
    },
    {
      "cell_type": "code",
      "metadata": {
        "id": "-BVfz5w1Xk3m"
      },
      "source": [
        "network = fully_connected(network, 2, activation='softmax')"
      ],
      "execution_count": 25,
      "outputs": []
    },
    {
      "cell_type": "code",
      "metadata": {
        "id": "3qlFbelrXk3n"
      },
      "source": [
        "network = regression(network, optimizer='adam',\n",
        "                     loss='categorical_crossentropy',\n",
        "                     learning_rate=0.001)"
      ],
      "execution_count": 26,
      "outputs": []
    },
    {
      "cell_type": "code",
      "metadata": {
        "id": "bK3LxZ_pXk3n"
      },
      "source": [
        "model = tflearn.DNN(network, tensorboard_verbose=0, checkpoint_path='bird-classifier.tfl.ckpt')"
      ],
      "execution_count": 27,
      "outputs": []
    },
    {
      "cell_type": "code",
      "metadata": {
        "id": "EeIB1SeVXk3o",
        "colab": {
          "base_uri": "https://localhost:8080/"
        },
        "outputId": "d79e8dcb-59ba-43ff-9774-bcfcf21f02de"
      },
      "source": [
        "model.fit(X, Y, n_epoch=10, shuffle=True, validation_set=(X_test, Y_test),\n",
        "          show_metric=True, batch_size=96,\n",
        "          snapshot_epoch=True,\n",
        "          run_id='bird-classifier')"
      ],
      "execution_count": 28,
      "outputs": [
        {
          "output_type": "stream",
          "text": [
            "Training Step: 5919  | total loss: \u001b[1m\u001b[32m0.28265\u001b[0m\u001b[0m | time: 233.470s\n",
            "| Adam | epoch: 010 | loss: 0.28265 - acc: 0.8730 -- iter: 56736/56780\n",
            "Training Step: 5920  | total loss: \u001b[1m\u001b[32m0.28521\u001b[0m\u001b[0m | time: 246.832s\n",
            "| Adam | epoch: 010 | loss: 0.28521 - acc: 0.8763 | val_loss: 0.20619 - val_acc: 0.9190 -- iter: 56780/56780\n",
            "--\n",
            "INFO:tensorflow:/content/bird-classifier.tfl.ckpt-5920 is not in all_model_checkpoint_paths. Manually adding it.\n"
          ],
          "name": "stdout"
        }
      ]
    },
    {
      "cell_type": "code",
      "metadata": {
        "id": "-_NEL5MRXk3o",
        "colab": {
          "base_uri": "https://localhost:8080/"
        },
        "outputId": "db461ea1-79b1-4d06-af94-036701e7cf0d"
      },
      "source": [
        "model.save(\"bird-classifier.tfl\")\n",
        "print(\"Network trained and saved as bird-classifier.tfl!\")"
      ],
      "execution_count": 29,
      "outputs": [
        {
          "output_type": "stream",
          "text": [
            "INFO:tensorflow:/content/bird-classifier.tfl is not in all_model_checkpoint_paths. Manually adding it.\n",
            "Network trained and saved as bird-classifier.tfl!\n"
          ],
          "name": "stdout"
        }
      ]
    },
    {
      "cell_type": "code",
      "metadata": {
        "id": "gO1tfIFXXk3p",
        "colab": {
          "base_uri": "https://localhost:8080/",
          "height": 315
        },
        "outputId": "d2be82bf-e264-482f-a657-4028f9230d4b"
      },
      "source": [
        "import scipy\n",
        "!pip install scipy==1.1.0"
      ],
      "execution_count": 50,
      "outputs": [
        {
          "output_type": "stream",
          "text": [
            "Collecting scipy==1.1.0\n",
            "\u001b[?25l  Downloading https://files.pythonhosted.org/packages/40/de/0c22c6754370ba6b1fa8e53bd6e514d4a41a181125d405a501c215cbdbd6/scipy-1.1.0-cp37-cp37m-manylinux1_x86_64.whl (31.2MB)\n",
            "\u001b[K     |████████████████████████████████| 31.2MB 145kB/s \n",
            "\u001b[?25hRequirement already satisfied: numpy>=1.8.2 in /usr/local/lib/python3.7/dist-packages (from scipy==1.1.0) (1.19.5)\n",
            "\u001b[31mERROR: plotnine 0.6.0 has requirement scipy>=1.2.0, but you'll have scipy 1.1.0 which is incompatible.\u001b[0m\n",
            "\u001b[31mERROR: albumentations 0.1.12 has requirement imgaug<0.2.7,>=0.2.5, but you'll have imgaug 0.2.9 which is incompatible.\u001b[0m\n",
            "Installing collected packages: scipy\n",
            "  Found existing installation: scipy 1.4.1\n",
            "    Uninstalling scipy-1.4.1:\n",
            "      Successfully uninstalled scipy-1.4.1\n",
            "Successfully installed scipy-1.1.0\n"
          ],
          "name": "stdout"
        },
        {
          "output_type": "display_data",
          "data": {
            "application/vnd.colab-display-data+json": {
              "pip_warning": {
                "packages": [
                  "scipy"
                ]
              }
            }
          },
          "metadata": {
            "tags": []
          }
        }
      ]
    },
    {
      "cell_type": "code",
      "metadata": {
        "id": "EW8ytNxBXk3p"
      },
      "source": [
        "import numpy as np"
      ],
      "execution_count": 31,
      "outputs": []
    },
    {
      "cell_type": "code",
      "metadata": {
        "id": "bdq_VK9UXk3p"
      },
      "source": [
        "from keras.preprocessing import image"
      ],
      "execution_count": 32,
      "outputs": []
    },
    {
      "cell_type": "code",
      "metadata": {
        "id": "8srTD083Xk3q"
      },
      "source": [
        "#print()"
      ],
      "execution_count": null,
      "outputs": []
    },
    {
      "cell_type": "code",
      "metadata": {
        "id": "9nK1MG05Xk3q",
        "colab": {
          "base_uri": "https://localhost:8080/"
        },
        "outputId": "f2ded520-10c4-47b3-805e-e8be3e7825b2"
      },
      "source": [
        "model.load(\"bird-classifier.tfl\")"
      ],
      "execution_count": 33,
      "outputs": [
        {
          "output_type": "stream",
          "text": [
            "INFO:tensorflow:Restoring parameters from /content/bird-classifier.tfl\n"
          ],
          "name": "stdout"
        }
      ]
    }
  ]
}